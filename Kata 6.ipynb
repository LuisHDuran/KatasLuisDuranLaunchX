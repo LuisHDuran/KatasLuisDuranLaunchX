{
 "cells": [
  {
   "cell_type": "code",
   "execution_count": 2,
   "metadata": {},
   "outputs": [
    {
     "name": "stdout",
     "output_type": "stream",
     "text": [
      "Estos son 8 planetas\n",
      "Pluton es el ultimo planeta\n"
     ]
    }
   ],
   "source": [
    "planetas = ['Mercurio', 'Venus', 'Tierra', 'Marte', 'Jupiter', 'Saturno', 'Urano', 'Neptuno']\n",
    "print('Estos son', len(planetas), 'planetas')\n",
    "\n",
    "planetas.append('Pluton')\n",
    "print(planetas[-1], 'es el ultimo planeta')\n"
   ]
  },
  {
   "cell_type": "code",
   "execution_count": 4,
   "metadata": {},
   "outputs": [
    {
     "name": "stdout",
     "output_type": "stream",
     "text": [
      "Estos son los planetras cerca del sol que Tierra\n",
      "['Mercurio', 'Venus']\n",
      "Estos son los planetras lejos del sol que Tierra\n",
      "['Marte', 'Jupiter', 'Saturno', 'Urano', 'Neptuno']\n"
     ]
    }
   ],
   "source": [
    "planetas = ['Mercurio', 'Venus', 'Tierra', 'Marte', 'Jupiter', 'Saturno', 'Urano', 'Neptuno']\n",
    "\n",
    "plannetausuario = input('Escribe el nombre del planeta (iniciando con mayuscula)')\n",
    "\n",
    "listaplaneta = planetas.index(plannetausuario)\n",
    "\n",
    "print('Estos son los planetras cerca del sol que ' + plannetausuario)\n",
    "print(planetas[0:listaplaneta])\n",
    "\n",
    "print('Estos son los planetras lejos del sol que ' + plannetausuario)\n",
    "print(planetas[listaplaneta + 1:])"
   ]
  }
 ],
 "metadata": {
  "interpreter": {
   "hash": "0cf31cf5e5b6211b0be0f50f8c15bd3dee06a783603061aa6a222770d7479962"
  },
  "kernelspec": {
   "display_name": "Python 3.10.2 64-bit",
   "language": "python",
   "name": "python3"
  },
  "language_info": {
   "codemirror_mode": {
    "name": "ipython",
    "version": 3
   },
   "file_extension": ".py",
   "mimetype": "text/x-python",
   "name": "python",
   "nbconvert_exporter": "python",
   "pygments_lexer": "ipython3",
   "version": "3.10.2"
  },
  "orig_nbformat": 4
 },
 "nbformat": 4,
 "nbformat_minor": 2
}
