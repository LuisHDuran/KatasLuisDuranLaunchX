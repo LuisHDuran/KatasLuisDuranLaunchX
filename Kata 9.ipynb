{
 "cells": [
  {
   "cell_type": "code",
   "execution_count": 3,
   "metadata": {},
   "outputs": [
    {
     "name": "stdout",
     "output_type": "stream",
     "text": [
      "Reporte de combustible:\n",
      "    Promedio: 78.33333333333333%\n",
      "    Tanque Principal: 80%\n",
      "    Tanque Secundario: 70%\n",
      "    Tanque Extra: 85% \n",
      "    \n",
      "Fuel Report:\n",
      "    Promedio: 78.0%\n",
      "    Tanque Principal: 88%\n",
      "    Tanque Secundario: 76%\n",
      "    Tanque Extra: 70% \n",
      "    \n"
     ]
    }
   ],
   "source": [
    "def generar_reporte(tanque1, tanque2, tanque3):\n",
    "    promedio = (tanque1 + tanque2 + tanque3) / 3\n",
    "    return f\"\"\"Reporte de combustible:\n",
    "    Promedio: {promedio}%\n",
    "    Tanque Principal: {tanque1}%\n",
    "    Tanque Secundario: {tanque2}%\n",
    "    Tanque Extra: {tanque3}% \n",
    "    \"\"\"\n",
    "\n",
    "print(generar_reporte(80, 70, 85))    \n",
    "\n",
    "def promedio(valores):\n",
    "    total = sum(valores)\n",
    "    numerodevalores = len(valores)\n",
    "    return total / numerodevalores\n",
    "\n",
    "promedio([80, 85, 81])\n",
    "\n",
    "def generar_reporte(tanque1, tanque2, tanque3):\n",
    "    return f\"\"\"Fuel Report:\n",
    "    Promedio: {promedio([tanque1, tanque2, tanque3])}%\n",
    "    Tanque Principal: {tanque1}%\n",
    "    Tanque Secundario: {tanque2}%\n",
    "    Tanque Extra: {tanque3}% \n",
    "    \"\"\"\n",
    "print(generar_reporte(88, 76, 70))"
   ]
  },
  {
   "cell_type": "code",
   "execution_count": 7,
   "metadata": {},
   "outputs": [
    {
     "name": "stdout",
     "output_type": "stream",
     "text": [
      "\n",
      "    Mision a Luna\n",
      "    Tiempo total de viaje: 65 minutos\n",
      "    Combustible total: 500000 galones\n",
      "    \n",
      "\n",
      "    Mision hacia Moon\n",
      "    Tiempo total de viaje: 76 minutos\n",
      "    Combustible restante: 500000\n",
      "    \n",
      "\n",
      "    Mision hacia Luna\n",
      "    Tiempo total de viaje: 74 minutpos\n",
      "    Combustible restante: 500000\n",
      "    Principal tanque --> 300000 galones restantes\n",
      "Secundario tanque --> 200000 galones restantes\n",
      "\n"
     ]
    }
   ],
   "source": [
    "def reporte_de_mision(tiempodelanzamiento, tiempodevuelo, destino, tanque2, tanque1):\n",
    "    return f\"\"\"\n",
    "    Mision a {destino}\n",
    "    Tiempo total de viaje: {tiempodelanzamiento + tiempodevuelo} minutos\n",
    "    Combustible total: {tanque1 + tanque2} galones\n",
    "    \"\"\"\n",
    "\n",
    "print(reporte_de_mision(14, 51, \"Luna\", 200000, 300000))\n",
    "\n",
    "def reporte_de_mision(destino, *minutos, **reservadecombustible):\n",
    "    return f\"\"\"\n",
    "    Mision hacia {destino}\n",
    "    Tiempo total de viaje: {sum(minutos)} minutos\n",
    "    Combustible restante: {sum(reservadecombustible.values())}\n",
    "    \"\"\"\n",
    "\n",
    "print(reporte_de_mision(\"Moon\", 10, 15, 51, Principal=300000, Secundario=200000))\n",
    "\n",
    "def reporte_de_mision(destino, *minutos, **reservadecombustible):\n",
    "    reporte = f\"\"\"\n",
    "    Mision hacia {destino}\n",
    "    Tiempo total de viaje: {sum(minutos)} minutpos\n",
    "    Combustible restante: {sum(reservadecombustible.values())}\n",
    "    \"\"\"\n",
    "    for tanque1, galones in reservadecombustible.items():\n",
    "        reporte += f\"{tanque1} tanque --> {galones} galones restantes\\n\"\n",
    "    return reporte\n",
    "\n",
    "print(reporte_de_mision(\"Luna\", 8, 11, 55, Principal=300000, Secundario=200000))\n"
   ]
  }
 ],
 "metadata": {
  "interpreter": {
   "hash": "0cf31cf5e5b6211b0be0f50f8c15bd3dee06a783603061aa6a222770d7479962"
  },
  "kernelspec": {
   "display_name": "Python 3.10.2 64-bit",
   "language": "python",
   "name": "python3"
  },
  "language_info": {
   "codemirror_mode": {
    "name": "ipython",
    "version": 3
   },
   "file_extension": ".py",
   "mimetype": "text/x-python",
   "name": "python",
   "nbconvert_exporter": "python",
   "pygments_lexer": "ipython3",
   "version": "3.10.2"
  },
  "orig_nbformat": 4
 },
 "nbformat": 4,
 "nbformat_minor": 2
}
