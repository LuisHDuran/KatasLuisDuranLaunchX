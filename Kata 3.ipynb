{
 "cells": [
  {
   "cell_type": "code",
   "execution_count": 1,
   "metadata": {},
   "outputs": [
    {
     "name": "stdout",
     "output_type": "stream",
     "text": [
      "Se aproxima un asteroide huye del mundo !!\n"
     ]
    }
   ],
   "source": [
    "# Añadir el código necesario para crear una variable que guarde la velocidad del asteroide.\n",
    "# Escribe una expresión de prueba para calcular si necesita una advertencia.\n",
    "# Agregue las instrucciones que se ejecutarán si la expresión de prueba es true o false.\n",
    "\n",
    "asteroide = 49\n",
    "if asteroide > 25:\n",
    "    print(\"Se aproxima un asteroide huye del mundo !!\")\n",
    "else:\n",
    "    print(\"Aqui no ha pasado nada\")\n"
   ]
  },
  {
   "cell_type": "code",
   "execution_count": 2,
   "metadata": {},
   "outputs": [
    {
     "name": "stdout",
     "output_type": "stream",
     "text": [
      "Cual asteriode? Aqui no se ve nada\n"
     ]
    }
   ],
   "source": [
    "# Agrega el código para crear una variable para un asteroide que viaja a 19 km/s\n",
    "# Escribe varias expresiones de prueba para determinar si puedes ver el rayo de luz desde la tierra\n",
    "# Agrega las instrucciones que se ejecutarán si las expresiones de prueba son True o False\n",
    "\n",
    "asteroide = 19\n",
    "if asteroide > 20:\n",
    "    print(\"Sal a buscarlo que lo puedes ver\")\n",
    "elif asteroide == 20:\n",
    "    print(\"Sal a buscarlo que lo puedes ver\")\n",
    "else:\n",
    "    print(\"Cual asteriode? Aqui no se ve nada\")"
   ]
  },
  {
   "cell_type": "code",
   "execution_count": 4,
   "metadata": {},
   "outputs": [
    {
     "name": "stdout",
     "output_type": "stream",
     "text": [
      "Cual asteriode? Aqui no se ve nada\n"
     ]
    }
   ],
   "source": [
    "# Agrega el código para crear nuevas variables para la velocidad y el tamaño del asteroide\n",
    "# Para probar el código, prueba con varias velocidades y tamaños\n",
    "# Escribe varias expresiones de prueba o combinaciones de expresiones de prueba para determinar qué mensaje se debe enviar a Tierra.\n",
    "\n",
    "tamano = 30\n",
    "velocidad = 13\n",
    "if velocidad > 25 and tamano > 25:\n",
    "    print(\"Se aproxima un asteroide huye del mundo !!\")\n",
    "elif velocidad >= 20:\n",
    "    print(\"Sal a buscarlo que lo puedes ver\")\n",
    "elif tamano < 25:\n",
    "    print(\"Cual asteriode? Aqui no se ve nada\")\n",
    "else:\n",
    "    print(\"Cual asteriode? Aqui no se ve nada\")"
   ]
  },
  {
   "cell_type": "code",
   "execution_count": null,
   "metadata": {},
   "outputs": [],
   "source": []
  }
 ],
 "metadata": {
  "interpreter": {
   "hash": "0cf31cf5e5b6211b0be0f50f8c15bd3dee06a783603061aa6a222770d7479962"
  },
  "kernelspec": {
   "display_name": "Python 3.10.2 64-bit",
   "language": "python",
   "name": "python3"
  },
  "language_info": {
   "codemirror_mode": {
    "name": "ipython",
    "version": 3
   },
   "file_extension": ".py",
   "mimetype": "text/x-python",
   "name": "python",
   "nbconvert_exporter": "python",
   "pygments_lexer": "ipython3",
   "version": "3.10.2"
  },
  "orig_nbformat": 4
 },
 "nbformat": 4,
 "nbformat_minor": 2
}
