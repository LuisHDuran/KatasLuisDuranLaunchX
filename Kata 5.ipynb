{
 "cells": [
  {
   "cell_type": "code",
   "execution_count": 1,
   "metadata": {},
   "outputs": [
    {
     "name": "stdout",
     "output_type": "stream",
     "text": [
      "628949330\n",
      "390577533.93\n"
     ]
    }
   ],
   "source": [
    "planetauno = 149597870\n",
    "planetados = 778547200\n",
    "\n",
    "distkm = planetados - planetauno\n",
    "print(distkm)\n",
    "\n",
    "distmi = distkm * 0.621\n",
    "print(distmi)"
   ]
  },
  {
   "cell_type": "code",
   "execution_count": 3,
   "metadata": {},
   "outputs": [
    {
     "name": "stdout",
     "output_type": "stream",
     "text": [
      "50300000\n",
      "31236300.0\n"
     ]
    }
   ],
   "source": [
    "planetaunoo = input('Escribe la distancia que hay entre el sol y el primer planeta en km')\n",
    "planetadoss = input('Escribe la distancia que hay entre el sol y el segundo planeta en km')\n",
    "\n",
    "planetaunoo = int(planetaunoo)\n",
    "planetadoss = int(planetadoss)\n",
    "\n",
    "distkms = planetadoss - planetaunoo\n",
    "print(distkms)\n",
    "\n",
    "distmis = distkms * 0.621\n",
    "print(distmis)"
   ]
  }
 ],
 "metadata": {
  "interpreter": {
   "hash": "0cf31cf5e5b6211b0be0f50f8c15bd3dee06a783603061aa6a222770d7479962"
  },
  "kernelspec": {
   "display_name": "Python 3.10.2 64-bit",
   "language": "python",
   "name": "python3"
  },
  "language_info": {
   "codemirror_mode": {
    "name": "ipython",
    "version": 3
   },
   "file_extension": ".py",
   "mimetype": "text/x-python",
   "name": "python",
   "nbconvert_exporter": "python",
   "pygments_lexer": "ipython3",
   "version": "3.10.2"
  },
  "orig_nbformat": 4
 },
 "nbformat": 4,
 "nbformat_minor": 2
}
